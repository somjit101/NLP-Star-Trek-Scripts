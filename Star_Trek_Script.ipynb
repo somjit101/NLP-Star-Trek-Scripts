{
 "cells": [
  {
   "cell_type": "markdown",
   "metadata": {},
   "source": [
    "## Package Inclusions"
   ]
  },
  {
   "cell_type": "code",
   "execution_count": 193,
   "metadata": {},
   "outputs": [],
   "source": [
    "import pandas as pd\n",
    "import numpy as np\n",
    "\n",
    "from sentence_transformers import SentenceTransformer, util\n",
    "\n",
    "import matplotlib.pyplot as plt\n",
    "import seaborn as sns\n",
    "\n",
    "import gensim\n",
    "from gensim.utils import simple_preprocess\n",
    "from gensim.parsing.preprocessing import STOPWORDS\n",
    "from nltk.stem import WordNetLemmatizer, SnowballStemmer\n",
    "from nltk.stem.porter import *"
   ]
  },
  {
   "cell_type": "markdown",
   "metadata": {},
   "source": [
    "## Reading Dataset"
   ]
  },
  {
   "cell_type": "code",
   "execution_count": 4,
   "metadata": {},
   "outputs": [],
   "source": [
    "df_all_series = pd.read_json(\"dataset/all_series_lines.json\")"
   ]
  },
  {
   "cell_type": "markdown",
   "metadata": {},
   "source": [
    "## List of Series"
   ]
  },
  {
   "cell_type": "code",
   "execution_count": 39,
   "metadata": {},
   "outputs": [
    {
     "data": {
      "text/plain": [
       "Index(['ENT', 'DS9', 'TOS', 'TAS', 'TNG', 'VOY'], dtype='object')"
      ]
     },
     "execution_count": 39,
     "metadata": {},
     "output_type": "execute_result"
    }
   ],
   "source": [
    "df_all_series.keys()"
   ]
  },
  {
   "cell_type": "markdown",
   "metadata": {},
   "source": [
    "## We choose a single series, DS9 i.e. Deep Space 9 for further investigation\n",
    "\n",
    "A little bit of preliminary observation and browsing shows that 'DS9' has the least number of typos and missing space errors, making it a good quality dataset for our purposes"
   ]
  },
  {
   "cell_type": "markdown",
   "metadata": {},
   "source": [
    "### Episodes"
   ]
  },
  {
   "cell_type": "code",
   "execution_count": 15,
   "metadata": {},
   "outputs": [
    {
     "data": {
      "text/plain": [
       "Index(['episode 0', 'episode 1', 'episode 2', 'episode 3', 'episode 4',\n",
       "       'episode 5', 'episode 6', 'episode 7', 'episode 8', 'episode 9',\n",
       "       ...\n",
       "       'episode 166', 'episode 167', 'episode 168', 'episode 169',\n",
       "       'episode 170', 'episode 171', 'episode 172', 'episode 173',\n",
       "       'episode 174', 'episode 175'],\n",
       "      dtype='object', length=176)"
      ]
     },
     "execution_count": 15,
     "metadata": {},
     "output_type": "execute_result"
    }
   ],
   "source": [
    "episodes = df_all_series['DS9'].keys()\n",
    "episodes"
   ]
  },
  {
   "cell_type": "markdown",
   "metadata": {},
   "source": [
    "### Characters"
   ]
  },
  {
   "cell_type": "code",
   "execution_count": 33,
   "metadata": {},
   "outputs": [
    {
     "data": {
      "text/plain": [
       "dict_keys(['JENNIFER', 'OPS', 'JASAD', 'PICARD', 'MAGGIE', 'DUKAT', 'BUREAUCRAT', 'CONN', 'KIRA', 'PIT', 'SISKO', 'ALIEN', 'CREWWOMAN', 'GIRL', 'CREWMAN', 'ODO', \"O'BRIEN\", 'ODN', 'NOG', 'OPAKA', 'CAPTAIN', 'ENSIGN', 'LOCUTUS', 'QUARK', 'CBS', 'BASHIR', 'DAX', 'COMPUTER', 'BOSS', 'OFFICER', 'JAKE', 'TACTICAL', 'CARDASSIAN', 'LIEUTENANT', 'MONK', 'BATSMAN'])"
      ]
     },
     "execution_count": 33,
     "metadata": {},
     "output_type": "execute_result"
    }
   ],
   "source": [
    "df_all_series['DS9'][episodes[0]].keys()"
   ]
  },
  {
   "cell_type": "code",
   "execution_count": 43,
   "metadata": {},
   "outputs": [
    {
     "data": {
      "text/plain": [
       "['Hey!',\n",
       " 'Yes?',\n",
       " \"I'm sorry did we meet last night at George's party?\",\n",
       " 'Are you okay?',\n",
       " 'We met here before?',\n",
       " \"I'm afraid I don't accept drinks from strange men on thebeach.\",\n",
       " 'So tell me the truth. Have we really meet before?',\n",
       " 'Then how did you know my name?',\n",
       " 'Are you going to tell me your name?',\n",
       " 'Ah, a junior officer.',\n",
       " 'My mother warned me to watch out for junior officers.',\n",
       " \"You're awfully sure of yourself.\",\n",
       " 'Do you use this routine a lot with women?',\n",
       " 'Sure.',\n",
       " \"I don't know.\",\n",
       " \"I'll probably be sorry.\",\n",
       " 'It is corporeal. A physical entity.',\n",
       " 'Linear time. what is this?',\n",
       " 'Does not exist yet?',\n",
       " 'Jennifer.',\n",
       " 'She is part of your existence.',\n",
       " 'But she is part of your existence.',\n",
       " 'Lost? what is this?',\n",
       " 'It is inconceivable that any species could exist in such amanner. You are deceiving us.',\n",
       " 'To what? 2',\n",
       " 'So you like children? 2',\n",
       " \"I've heard Starfleet officers don't want families becausethey complicate their lives. 2\",\n",
       " 'That almost sounds like a domestic inquiry. 2',\n",
       " 'Pleasure? What is this?',\n",
       " 'Then why do you exist here?',\n",
       " 'You exist here.',\n",
       " 'More of your kind.',\n",
       " 'Wormhole? What is this?',\n",
       " 'The child with Jennifer.',\n",
       " 'Linear procreation?',\n",
       " 'The sound of children playing.',\n",
       " 'You bring us here.',\n",
       " 'The termination of their linear existence.',\n",
       " 'You exist here.',\n",
       " 'None of your past experiences helped prepare you for thisconsequence.',\n",
       " 'So you choose to exist here. It is not linear.']"
      ]
     },
     "execution_count": 43,
     "metadata": {},
     "output_type": "execute_result"
    }
   ],
   "source": [
    "(df_all_series['DS9'][episodes[0]]['JENNIFER'])"
   ]
  },
  {
   "cell_type": "markdown",
   "metadata": {},
   "source": [
    "## It appears that all the lines of a character in an episode are appended in a single list keyed by the episode and character. \n",
    "\n",
    "## *This makes our job easier*"
   ]
  },
  {
   "cell_type": "markdown",
   "metadata": {},
   "source": [
    "# Question 1. Who has the most lines? Who are the top 5?\n",
    "\n",
    "So, to count the no. of lines for each character, we simply count the number of entries of each character across all episodes"
   ]
  },
  {
   "cell_type": "code",
   "execution_count": 50,
   "metadata": {},
   "outputs": [],
   "source": [
    "line_counts = {}\n",
    "\n",
    "for ep in episodes:\n",
    "\n",
    "    if df_all_series['DS9'][ep] is not np.NaN:\n",
    "\n",
    "        for character in list(df_all_series['DS9'][ep].keys()):\n",
    "\n",
    "            curr_lines = len(df_all_series['DS9'][ep][character])\n",
    "\n",
    "            if character in line_counts.keys():\n",
    "\n",
    "                line_counts[character] = line_counts[character] + curr_lines\n",
    "\n",
    "            else:\n",
    "                line_counts[character] = curr_lines"
   ]
  },
  {
   "cell_type": "markdown",
   "metadata": {},
   "source": [
    "## Visualizing the No. of Lines for the top 30 characters in the entire series with the most lines"
   ]
  },
  {
   "cell_type": "code",
   "execution_count": 61,
   "metadata": {},
   "outputs": [
    {
     "data": {
      "text/plain": [
       "<Figure size 1440x576 with 0 Axes>"
      ]
     },
     "metadata": {},
     "output_type": "display_data"
    },
    {
     "data": {
      "image/png": "[encoded data removed]",
      "text/plain": [
       "<Figure size 1440x576 with 1 Axes>"
      ]
     },
     "metadata": {
      "needs_background": "light"
     },
     "output_type": "display_data"
    }
   ],
   "source": [
    "plt.figure(figsize = (20,8))\n",
    "\n",
    "df_line_counts = pd.DataFrame(list(line_counts.items()), columns=['Character','No. of Lines'])\n",
    "df_line_counts.sort_values(by='No. of Lines', ascending=False, inplace = True)\n",
    "\n",
    "df_line_counts.head(30).plot.bar(x='Character',y='No. of Lines', figsize = (20,8))\n",
    "plt.show()\n"
   ]
  },
  {
   "cell_type": "code",
   "execution_count": 63,
   "metadata": {},
   "outputs": [
    {
     "name": "stdout",
     "output_type": "stream",
     "text": [
      "Top 5 characters with lines: \n",
      "\n",
      "\n",
      " SISKO\n",
      "\n",
      " KIRA\n",
      "\n",
      " BASHIR\n",
      "\n",
      " O'BRIEN\n",
      "\n",
      " ODO\n"
     ]
    }
   ],
   "source": [
    "print('Top 5 characters with lines: \\n')\n",
    "for char in df_line_counts['Character'].iloc[0:5]:\n",
    "    print('\\n', char)"
   ]
  },
  {
   "cell_type": "markdown",
   "metadata": {},
   "source": [
    "### Hence, we see that the top 5 characters with the most lines are :\n",
    "1. SSKO\n",
    "2. KIRA\n",
    "3. BASHIR\n",
    "4. O'BRIEN\n",
    "5. ODO\n"
   ]
  },
  {
   "cell_type": "markdown",
   "metadata": {},
   "source": [
    "# Question 2. Who is the most verbose?\n",
    "This basically means we are interested in the character who utters the most number of words. So we count the no. of words of each character."
   ]
  },
  {
   "cell_type": "code",
   "execution_count": 65,
   "metadata": {},
   "outputs": [],
   "source": [
    "\n",
    "word_counts = {}\n",
    "\n",
    "for ep in episodes:\n",
    "\n",
    "    if df_all_series['DS9'][ep] is not np.NaN:\n",
    "\n",
    "        for character in list(df_all_series['DS9'][ep].keys()):\n",
    "\n",
    "            curr_words = sum([len(line.split()) for line in df_all_series['DS9'][ep][character]])\n",
    "\n",
    "            if character in word_counts.keys():\n",
    "\n",
    "                word_counts[character] = word_counts[character] + curr_words\n",
    "\n",
    "            else:\n",
    "                word_counts[character] = curr_words\n"
   ]
  },
  {
   "cell_type": "markdown",
   "metadata": {},
   "source": [
    "## Visualizing the No. of Words for the top 30 characters in the entire series with the most words spoken\n"
   ]
  },
  {
   "cell_type": "code",
   "execution_count": 70,
   "metadata": {},
   "outputs": [
    {
     "data": {
      "text/plain": [
       "<Figure size 1440x576 with 0 Axes>"
      ]
     },
     "metadata": {},
     "output_type": "display_data"
    },
    {
     "data": {
      "image/png": "[encoded data removed]",
      "text/plain": [
       "<Figure size 1440x576 with 1 Axes>"
      ]
     },
     "metadata": {
      "needs_background": "light"
     },
     "output_type": "display_data"
    }
   ],
   "source": [
    "\n",
    "plt.figure(figsize = (20,8))\n",
    "\n",
    "df_word_counts = pd.DataFrame(list(word_counts.items()), columns=['Character','No. of Words'])\n",
    "df_word_counts.sort_values(by='No. of Words', ascending=False, inplace = True)\n",
    "\n",
    "df_word_counts.head(30).plot.bar(x='Character',y='No. of Words', figsize = (20,8))\n",
    "plt.show()\n",
    "\n",
    "\n"
   ]
  },
  {
   "cell_type": "code",
   "execution_count": 71,
   "metadata": {},
   "outputs": [
    {
     "name": "stdout",
     "output_type": "stream",
     "text": [
      "The most verbose character is: \n",
      "\n",
      "SISKO\n"
     ]
    }
   ],
   "source": [
    "print('The most verbose character is: \\n')\n",
    "print(df_word_counts['Character'].iloc[0])"
   ]
  },
  {
   "cell_type": "markdown",
   "metadata": {},
   "source": [
    "### Hence, SISKO is the most verbose character"
   ]
  },
  {
   "cell_type": "markdown",
   "metadata": {},
   "source": [
    "# Question 3. What are the main topics each main character talks about? Define how you determined main character."
   ]
  },
  {
   "cell_type": "markdown",
   "metadata": {},
   "source": [
    "### If we notice the bar plots above, we notice that there is a sharp fall in number of lines/words for characters beyond **'DAX'**\n",
    "Hence, we assume there are **7 Main Characters** :\n",
    "1. SSKO\n",
    "2. KIRA\n",
    "3. BASHIR\n",
    "4. O'BRIEN\n",
    "5. ODO\n",
    "6. QUARK\n",
    "7. DAX"
   ]
  },
  {
   "cell_type": "markdown",
   "metadata": {},
   "source": [
    "### Building corpus of the lines of each Main Character"
   ]
  },
  {
   "cell_type": "code",
   "execution_count": 124,
   "metadata": {},
   "outputs": [],
   "source": [
    "character_corpus = dict()\n",
    "\n",
    "for char in df_line_counts['Character'].iloc[0:7]:\n",
    "    character_corpus[char] = \"\""
   ]
  },
  {
   "cell_type": "code",
   "execution_count": 125,
   "metadata": {},
   "outputs": [],
   "source": [
    "for character in list(character_corpus.keys()):\n",
    "\n",
    "    for episode in episodes:\n",
    "\n",
    "        if df_all_series['DS9'][episode] is not np.NaN:\n",
    "\n",
    "            #print(list(df_all_series['DS9'][episode][character]))\n",
    "\n",
    "            dialogue_list = [x for x in df_all_series['DS9'][episode][character]]\n",
    "            \n",
    "            for line in dialogue_list:\n",
    "\n",
    "                character_corpus[character] += ' ' \n",
    "                character_corpus[character] += line\n",
    "\n",
    "    character_corpus[character] = character_corpus[character].strip()"
   ]
  },
  {
   "cell_type": "markdown",
   "metadata": {},
   "source": [
    "### Text Preprocessing of the Corpus of Lines of each Main Character - Stemming, Lemmatization and Stopword Removal"
   ]
  },
  {
   "cell_type": "markdown",
   "metadata": {},
   "source": [
    "Function to perform the pre processing steps on the entire dataset"
   ]
  },
  {
   "cell_type": "code",
   "execution_count": 132,
   "metadata": {},
   "outputs": [],
   "source": [
    "stemmer = SnowballStemmer(\"english\")\n",
    "\n",
    "def lemmatize_stemming(text):\n",
    "    return stemmer.stem(WordNetLemmatizer().lemmatize(text, pos='v'))\n",
    "\n",
    "# Tokenize and lemmatize\n",
    "def preprocess(text):\n",
    "    result=[]\n",
    "    for token in gensim.utils.simple_preprocess(text) :\n",
    "        if token not in gensim.parsing.preprocessing.STOPWORDS and len(token) > 3:\n",
    "            result.append(lemmatize_stemming(token))\n",
    "            \n",
    "    return result"
   ]
  },
  {
   "cell_type": "markdown",
   "metadata": {},
   "source": [
    "## Building a Dictionary with the entire dataset of the DS9 series of Star Trek"
   ]
  },
  {
   "cell_type": "code",
   "execution_count": 139,
   "metadata": {},
   "outputs": [],
   "source": [
    "preprocessed_words_list = []\n",
    "\n",
    "for ep in episodes:\n",
    "\n",
    "    if df_all_series['DS9'][ep] is not np.NaN:\n",
    "\n",
    "        for character in list(df_all_series['DS9'][ep].keys()):\n",
    "\n",
    "            for line in df_all_series['DS9'][ep][character]:\n",
    "                \n",
    "                preprocessed_words_list.append(preprocess(line))\n"
   ]
  },
  {
   "cell_type": "code",
   "execution_count": 141,
   "metadata": {},
   "outputs": [
    {
     "data": {
      "text/plain": [
       "67096"
      ]
     },
     "execution_count": 141,
     "metadata": {},
     "output_type": "execute_result"
    }
   ],
   "source": [
    "len(preprocessed_words_list)"
   ]
  },
  {
   "cell_type": "markdown",
   "metadata": {},
   "source": [
    "#### **So we have built a Dictionary of all the words encountered in the Series and we have obtained **67,096** unique words in the entire script of the DS9 series**"
   ]
  },
  {
   "cell_type": "markdown",
   "metadata": {},
   "source": [
    "#### Creating a dictionary containing the number of times a word appears in the whole script"
   ]
  },
  {
   "cell_type": "code",
   "execution_count": 143,
   "metadata": {},
   "outputs": [],
   "source": [
    "dictionary = gensim.corpora.Dictionary(preprocessed_words_list)"
   ]
  },
  {
   "cell_type": "markdown",
   "metadata": {},
   "source": [
    "### Filtering out extremes i.e. very rare and very common words:\n",
    "- Words appearing less than 20 times\n",
    "- Words appearing in more than 20% of all documents"
   ]
  },
  {
   "cell_type": "code",
   "execution_count": 145,
   "metadata": {},
   "outputs": [],
   "source": [
    "dictionary.filter_extremes(no_below=20, no_above=0.2, keep_n= 100000)"
   ]
  },
  {
   "cell_type": "markdown",
   "metadata": {},
   "source": [
    "### Creating a Dictionary of Bag of Words Representations of each word in the corpus"
   ]
  },
  {
   "cell_type": "code",
   "execution_count": 146,
   "metadata": {},
   "outputs": [],
   "source": [
    "bow_corpus = [dictionary.doc2bow(doc) for doc in preprocessed_words_list]"
   ]
  },
  {
   "cell_type": "markdown",
   "metadata": {},
   "source": [
    "## Now, we use **Latent Dirichlet Allocation (LDA)** for Topic Modelling of the dialogues of the main characters in the Series in an unsupervised setup.\n",
    "\n",
    "### About LDA\n",
    "\n",
    "**LDA** is used to classify text in a document to a particular topic, primarily useful in an **unsupervised setting** such as this. It builds a topic per document model and words per topic model, modeled as Dirichlet distributions.\n",
    "\n",
    "- Each document is modeled as a multinomial distribution of topics and each topic is modeled as a multinomial distribution of words.\n",
    "- LDA assumes that the every chunk of text we feed into it will contain words that are somehow related. Therefore choosing the right corpus of data is crucial.\n",
    "- It also assumes documents are produced from a mixture of topics. Those topics then generate words based on their probability distribution.\n",
    "\n",
    "More info about LDA in the [original paper](http://www.jmlr.org/papers/volume3/blei03a/blei03a.pdf)\n",
    "\n",
    "#### **Note:** We are assuming that there are at most 10 most frequent topics that the series is built around"
   ]
  },
  {
   "cell_type": "code",
   "execution_count": 147,
   "metadata": {},
   "outputs": [
    {
     "name": "stderr",
     "output_type": "stream",
     "text": [
      "/Users/somjit.bhowmick/.pyenv/versions/3.8.10/lib/python3.8/site-packages/requests/__init__.py:109: RequestsDependencyWarning: urllib3 (1.26.9) or chardet (5.0.0)/charset_normalizer (2.0.12) doesn't match a supported version!\n",
      "  warnings.warn(\n",
      "/Users/somjit.bhowmick/.pyenv/versions/3.8.10/lib/python3.8/site-packages/requests/__init__.py:109: RequestsDependencyWarning: urllib3 (1.26.9) or chardet (5.0.0)/charset_normalizer (2.0.12) doesn't match a supported version!\n",
      "  warnings.warn(\n",
      "/Users/somjit.bhowmick/.pyenv/versions/3.8.10/lib/python3.8/site-packages/requests/__init__.py:109: RequestsDependencyWarning: urllib3 (1.26.9) or chardet (5.0.0)/charset_normalizer (2.0.12) doesn't match a supported version!\n",
      "  warnings.warn(\n",
      "/Users/somjit.bhowmick/.pyenv/versions/3.8.10/lib/python3.8/site-packages/requests/__init__.py:109: RequestsDependencyWarning: urllib3 (1.26.9) or chardet (5.0.0)/charset_normalizer (2.0.12) doesn't match a supported version!\n",
      "  warnings.warn(\n"
     ]
    }
   ],
   "source": [
    "\n",
    "'''\n",
    "Training Multicore LDA Model and saving it to 'lda_model'\n",
    "'''\n",
    "lda_model =  gensim.models.LdaMulticore(bow_corpus, \n",
    "                                   num_topics = 10, \n",
    "                                   id2word = dictionary,                                    \n",
    "                                   passes = 10,\n",
    "                                   workers = 4)"
   ]
  },
  {
   "cell_type": "markdown",
   "metadata": {},
   "source": [
    "## Let us now investigate the 10 topics leant from the corpus and the related words in each of them:"
   ]
  },
  {
   "cell_type": "code",
   "execution_count": 148,
   "metadata": {},
   "outputs": [
    {
     "name": "stdout",
     "output_type": "stream",
     "text": [
      "Topic: 0 \n",
      "Words: 0.053*\"good\" + 0.036*\"long\" + 0.033*\"mayb\" + 0.031*\"help\" + 0.028*\"command\" + 0.025*\"stop\" + 0.023*\"live\" + 0.023*\"station\" + 0.020*\"julian\" + 0.017*\"think\"\n",
      "\n",
      "\n",
      "Topic: 1 \n",
      "Words: 0.055*\"say\" + 0.038*\"chief\" + 0.032*\"tri\" + 0.025*\"hold\" + 0.023*\"start\" + 0.021*\"life\" + 0.018*\"fine\" + 0.018*\"see\" + 0.018*\"point\" + 0.017*\"think\"\n",
      "\n",
      "\n",
      "Topic: 2 \n",
      "Words: 0.044*\"mean\" + 0.032*\"captain\" + 0.019*\"lose\" + 0.019*\"hadar\" + 0.019*\"believ\" + 0.017*\"power\" + 0.016*\"wish\" + 0.016*\"great\" + 0.015*\"ship\" + 0.015*\"starfleet\"\n",
      "\n",
      "\n",
      "Topic: 3 \n",
      "Words: 0.034*\"dominion\" + 0.028*\"cardassian\" + 0.025*\"sorri\" + 0.019*\"bajor\" + 0.018*\"stay\" + 0.015*\"day\" + 0.015*\"want\" + 0.014*\"kind\" + 0.013*\"bajoran\" + 0.012*\"jadzia\"\n",
      "\n",
      "\n",
      "Topic: 4 \n",
      "Words: 0.238*\"know\" + 0.060*\"sure\" + 0.047*\"hear\" + 0.044*\"thank\" + 0.030*\"want\" + 0.019*\"trek\" + 0.019*\"think\" + 0.017*\"jake\" + 0.014*\"respect\" + 0.014*\"star\"\n",
      "\n",
      "\n",
      "Topic: 5 \n",
      "Words: 0.087*\"tell\" + 0.082*\"think\" + 0.063*\"look\" + 0.039*\"doctor\" + 0.027*\"major\" + 0.023*\"want\" + 0.023*\"wrong\" + 0.022*\"like\" + 0.022*\"mind\" + 0.021*\"work\"\n",
      "\n",
      "\n",
      "Topic: 6 \n",
      "Words: 0.124*\"go\" + 0.030*\"sisko\" + 0.028*\"order\" + 0.026*\"love\" + 0.024*\"bring\" + 0.019*\"worri\" + 0.018*\"like\" + 0.018*\"klingon\" + 0.017*\"listen\" + 0.016*\"sound\"\n",
      "\n",
      "\n",
      "Topic: 7 \n",
      "Words: 0.120*\"right\" + 0.098*\"come\" + 0.050*\"talk\" + 0.032*\"go\" + 0.031*\"cours\" + 0.031*\"kill\" + 0.023*\"care\" + 0.023*\"peopl\" + 0.021*\"home\" + 0.019*\"afraid\"\n",
      "\n",
      "\n",
      "Topic: 8 \n",
      "Words: 0.087*\"time\" + 0.059*\"need\" + 0.035*\"better\" + 0.032*\"leav\" + 0.030*\"understand\" + 0.029*\"like\" + 0.027*\"worf\" + 0.026*\"feel\" + 0.023*\"friend\" + 0.021*\"hope\"\n",
      "\n",
      "\n",
      "Topic: 9 \n",
      "Words: 0.058*\"want\" + 0.032*\"happen\" + 0.032*\"quark\" + 0.031*\"wait\" + 0.031*\"ship\" + 0.024*\"hour\" + 0.019*\"minut\" + 0.016*\"weapon\" + 0.015*\"readi\" + 0.011*\"read\"\n",
      "\n",
      "\n"
     ]
    }
   ],
   "source": [
    "for idx, topic in lda_model.print_topics(-1):\n",
    "    print(\"Topic: {} \\nWords: {}\".format(idx, topic ))\n",
    "    print(\"\\n\")"
   ]
  },
  {
   "cell_type": "markdown",
   "metadata": {},
   "source": [
    "### Topic Classifications :\n",
    "#### Based on the related words from above, we infer the following topics present in the script:\n",
    "- Topic 0: **Actions**\n",
    "- Topic 1: **Spaceship Commands**\n",
    "- Topic 2: **Spaceship**\n",
    "- Topic 3: **Extraterrestrial Life**\n",
    "- Topic 4: **Information**\n",
    "- Topic 5: **Intellect**\n",
    "- Topic 6: **Leadership**\n",
    "- Topic 7: **Emotions**\n",
    "- Topic 8: **Feelings**\n",
    "- Topic 9: **Time and Events**"
   ]
  },
  {
   "cell_type": "code",
   "execution_count": 173,
   "metadata": {},
   "outputs": [
    {
     "data": {
      "text/plain": [
       "{0: 'Actions',\n",
       " 1: 'Spaceship Commands',\n",
       " 2: 'Spaceship',\n",
       " 3: 'Extraterrestrial Life',\n",
       " 4: 'Information',\n",
       " 5: 'Intellect',\n",
       " 6: 'Leadership',\n",
       " 7: 'Emotions',\n",
       " 8: 'Feelings',\n",
       " 9: 'Time and Events'}"
      ]
     },
     "execution_count": 173,
     "metadata": {},
     "output_type": "execute_result"
    }
   ],
   "source": [
    "topicDict = dict()\n",
    "topicDict = {0: \"Actions\",\\\n",
    "             1: \"Spaceship Commands\",\\\n",
    "             2: \"Spaceship\",\\\n",
    "             3: \"Extraterrestrial Life\",\\\n",
    "             4: \"Information\",\\\n",
    "             5: \"Intellect\",\\\n",
    "             6: \"Leadership\",\\\n",
    "             7: \"Emotions\",\n",
    "             8: \"Feelings\",\n",
    "             9: \"Time and Events\"\n",
    "             }\n",
    "\n",
    "topicDict"
   ]
  },
  {
   "cell_type": "markdown",
   "metadata": {},
   "source": [
    "## Now, we test the dialogues of each main character to find out the **TOP 2** topics they talk about throughout the series."
   ]
  },
  {
   "cell_type": "code",
   "execution_count": 174,
   "metadata": {},
   "outputs": [
    {
     "name": "stdout",
     "output_type": "stream",
     "text": [
      "--------------------------------------------------\n",
      "For Character SISKO following the descriptive works for their top 2 topics: \n",
      "\n",
      "Score: 0.12629784643650055\t Topic: Spaceship\n",
      "Score: 0.11511795967817307\t Topic: Time and Events\n",
      "--------------------------------------------------\n",
      "For Character KIRA following the descriptive works for their top 2 topics: \n",
      "\n",
      "Score: 0.11752837151288986\t Topic: Extraterrestrial Life\n",
      "Score: 0.1153811439871788\t Topic: Time and Events\n",
      "--------------------------------------------------\n",
      "For Character BASHIR following the descriptive works for their top 2 topics: \n",
      "\n",
      "Score: 0.12565112113952637\t Topic: Intellect\n",
      "Score: 0.11924277245998383\t Topic: Time and Events\n",
      "--------------------------------------------------\n",
      "For Character O'BRIEN following the descriptive works for their top 2 topics: \n",
      "\n",
      "Score: 0.1761217713356018\t Topic: Time and Events\n",
      "Score: 0.1074589267373085\t Topic: Actions\n",
      "--------------------------------------------------\n",
      "For Character ODO following the descriptive works for their top 2 topics: \n",
      "\n",
      "Score: 0.1233191043138504\t Topic: Intellect\n",
      "Score: 0.1197681799530983\t Topic: Spaceship\n",
      "--------------------------------------------------\n",
      "For Character QUARK following the descriptive works for their top 2 topics: \n",
      "\n",
      "Score: 0.13155972957611084\t Topic: Emotions\n",
      "Score: 0.10881683975458145\t Topic: Extraterrestrial Life\n",
      "--------------------------------------------------\n",
      "For Character DAX following the descriptive works for their top 2 topics: \n",
      "\n",
      "Score: 0.1628662794828415\t Topic: Time and Events\n",
      "Score: 0.10762319713830948\t Topic: Actions\n"
     ]
    }
   ],
   "source": [
    "for character in list(character_corpus.keys()):\n",
    "\n",
    "    character_lines = ''\n",
    "\n",
    "    for episode in episodes:\n",
    "\n",
    "        if df_all_series['DS9'][episode] is not np.NaN:\n",
    "\n",
    "            dialogue_list = [x for x in df_all_series['DS9'][episode][character]]\n",
    "            \n",
    "            for line in dialogue_list:\n",
    "\n",
    "                character_lines += ' ' \n",
    "                character_lines += line\n",
    "\n",
    "    character_lines = character_lines.strip()\n",
    "    bow_vector = dictionary.doc2bow(preprocess(character_lines))\n",
    "\n",
    "    print(\"-\" * 50)\n",
    "    print(\"For Character \" + character + \" following the descriptive works for their top 2 topics: \\n\")\n",
    "\n",
    "    for index, score in sorted(lda_model[bow_vector], key = lambda tup: -1 * tup[1])[0:2]:\n",
    "        \n",
    "        # print(\"Score: {}\\t Topic: {}\".format(score, lda_model.print_topic(index, 10)))\n",
    "        print(\"Score: {}\\t Topic: {}\".format(score, topicDict[index]))"
   ]
  },
  {
   "cell_type": "markdown",
   "metadata": {},
   "source": [
    "## Conclusions\n",
    "\n",
    "### Based on the above results we see that the Main Characters talk about the following in the series:\n",
    "\n",
    "| Character  | Top 2 Topics |\n",
    "| ---------- | ----------- |\n",
    "| SISKO      | Spaceship, Time and Events |\n",
    "| KIRA       | Extraterrestrial Life, Time and Events |\n",
    "| BASHIR     | Intellect, Time and Events |\n",
    "| O'BRIEN    | Time and Events, Actions |\n",
    "| ODO        | Intellect, Spaceship |\n",
    "| QUARK      | Emotions, Extraterrestrial Life |\n",
    "| DAX        | Time and Events, Actions |"
   ]
  },
  {
   "cell_type": "markdown",
   "metadata": {},
   "source": [
    "# Question 4. How do the topics change throughout the series?"
   ]
  },
  {
   "cell_type": "markdown",
   "metadata": {},
   "source": [
    "## Let us observe the change of topics for each of the main characters with seasons throughout the series.\n",
    "\n",
    "### A bit of Google Search reveals that the series has **20 episodes in Season 1** and **26 episodes each in Seasons 2 - 7**."
   ]
  },
  {
   "cell_type": "code",
   "execution_count": 177,
   "metadata": {},
   "outputs": [
    {
     "name": "stdout",
     "output_type": "stream",
     "text": [
      "--------------------   Season 1   --------------------\n",
      "--------------------------------------------------\n",
      "For Character SISKO following the descriptive works for their top 2 topics: \n",
      "\n",
      "Score: 0.13957951962947845\t Topic: Intellect\n",
      "Score: 0.11741486936807632\t Topic: Time and Events\n",
      "--------------------------------------------------\n",
      "For Character KIRA following the descriptive works for their top 2 topics: \n",
      "\n",
      "Score: 0.13849228620529175\t Topic: Time and Events\n",
      "Score: 0.1336362212896347\t Topic: Spaceship\n",
      "--------------------------------------------------\n",
      "For Character BASHIR following the descriptive works for their top 2 topics: \n",
      "\n",
      "Score: 0.15207715332508087\t Topic: Time and Events\n",
      "Score: 0.137392058968544\t Topic: Actions\n",
      "--------------------------------------------------\n",
      "For Character O'BRIEN following the descriptive works for their top 2 topics: \n",
      "\n",
      "Score: 0.22698675096035004\t Topic: Time and Events\n",
      "Score: 0.1111573576927185\t Topic: Spaceship Commands\n",
      "--------------------------------------------------\n",
      "For Character ODO following the descriptive works for their top 2 topics: \n",
      "\n",
      "Score: 0.1460564136505127\t Topic: Time and Events\n",
      "Score: 0.12704405188560486\t Topic: Intellect\n",
      "--------------------------------------------------\n",
      "For Character QUARK following the descriptive works for their top 2 topics: \n",
      "\n",
      "Score: 0.11983704566955566\t Topic: Extraterrestrial Life\n",
      "Score: 0.11832676082849503\t Topic: Spaceship Commands\n",
      "--------------------------------------------------\n",
      "For Character DAX following the descriptive works for their top 2 topics: \n",
      "\n",
      "Score: 0.2821791172027588\t Topic: Time and Events\n",
      "Score: 0.10089106112718582\t Topic: Actions\n",
      "\n",
      " --------------------   Season  2    --------------------\n",
      "--------------------------------------------------\n",
      "For Character SISKO following the descriptive works for their top 2 topics: \n",
      "\n",
      "Score: 0.13069206476211548\t Topic: Time and Events\n",
      "Score: 0.11914194375276566\t Topic: Spaceship\n",
      "--------------------------------------------------\n",
      "For Character KIRA following the descriptive works for their top 2 topics: \n",
      "\n",
      "Score: 0.12372436374425888\t Topic: Time and Events\n",
      "Score: 0.11685122549533844\t Topic: Actions\n",
      "--------------------------------------------------\n",
      "For Character BASHIR following the descriptive works for their top 2 topics: \n",
      "\n",
      "Score: 0.14036183059215546\t Topic: Intellect\n",
      "Score: 0.12429142743349075\t Topic: Spaceship Commands\n",
      "--------------------------------------------------\n",
      "For Character O'BRIEN following the descriptive works for their top 2 topics: \n",
      "\n",
      "Score: 0.18198655545711517\t Topic: Time and Events\n",
      "Score: 0.11800432950258255\t Topic: Actions\n",
      "--------------------------------------------------\n",
      "For Character ODO following the descriptive works for their top 2 topics: \n",
      "\n",
      "Score: 0.13326074182987213\t Topic: Time and Events\n",
      "Score: 0.12723112106323242\t Topic: Intellect\n",
      "--------------------------------------------------\n",
      "For Character QUARK following the descriptive works for their top 2 topics: \n",
      "\n",
      "Score: 0.1218922883272171\t Topic: Extraterrestrial Life\n",
      "Score: 0.11754118651151657\t Topic: Emotions\n",
      "--------------------------------------------------\n",
      "For Character DAX following the descriptive works for their top 2 topics: \n",
      "\n",
      "Score: 0.18380777537822723\t Topic: Time and Events\n",
      "Score: 0.10106709599494934\t Topic: Spaceship\n",
      "\n",
      " --------------------   Season  3    --------------------\n",
      "--------------------------------------------------\n",
      "For Character SISKO following the descriptive works for their top 2 topics: \n",
      "\n",
      "Score: 0.12528301775455475\t Topic: Spaceship\n",
      "Score: 0.12408903241157532\t Topic: Time and Events\n",
      "--------------------------------------------------\n",
      "For Character KIRA following the descriptive works for their top 2 topics: \n",
      "\n",
      "Score: 0.12409266084432602\t Topic: Time and Events\n",
      "Score: 0.11493249237537384\t Topic: Extraterrestrial Life\n",
      "--------------------------------------------------\n",
      "For Character BASHIR following the descriptive works for their top 2 topics: \n",
      "\n",
      "Score: 0.13391411304473877\t Topic: Intellect\n",
      "Score: 0.13061606884002686\t Topic: Actions\n",
      "--------------------------------------------------\n",
      "For Character O'BRIEN following the descriptive works for their top 2 topics: \n",
      "\n",
      "Score: 0.19214360415935516\t Topic: Time and Events\n",
      "Score: 0.12055196613073349\t Topic: Actions\n",
      "--------------------------------------------------\n",
      "For Character ODO following the descriptive works for their top 2 topics: \n",
      "\n",
      "Score: 0.11964531987905502\t Topic: Spaceship\n",
      "Score: 0.11934275925159454\t Topic: Intellect\n",
      "--------------------------------------------------\n",
      "For Character QUARK following the descriptive works for their top 2 topics: \n",
      "\n",
      "Score: 0.14332693815231323\t Topic: Emotions\n",
      "Score: 0.12084044516086578\t Topic: Extraterrestrial Life\n",
      "--------------------------------------------------\n",
      "For Character DAX following the descriptive works for their top 2 topics: \n",
      "\n",
      "Score: 0.15896619856357574\t Topic: Time and Events\n",
      "Score: 0.12438179552555084\t Topic: Actions\n",
      "\n",
      " --------------------   Season  4    --------------------\n",
      "--------------------------------------------------\n",
      "For Character SISKO following the descriptive works for their top 2 topics: \n",
      "\n",
      "Score: 0.1492435783147812\t Topic: Spaceship\n",
      "Score: 0.11174881458282471\t Topic: Time and Events\n",
      "--------------------------------------------------\n",
      "For Character KIRA following the descriptive works for their top 2 topics: \n",
      "\n",
      "Score: 0.12141149491071701\t Topic: Time and Events\n",
      "Score: 0.11326363682746887\t Topic: Extraterrestrial Life\n",
      "--------------------------------------------------\n",
      "For Character BASHIR following the descriptive works for their top 2 topics: \n",
      "\n",
      "Score: 0.13321799039840698\t Topic: Feelings\n",
      "Score: 0.11329846829175949\t Topic: Time and Events\n",
      "--------------------------------------------------\n",
      "For Character O'BRIEN following the descriptive works for their top 2 topics: \n",
      "\n",
      "Score: 0.15239231288433075\t Topic: Time and Events\n",
      "Score: 0.11976629495620728\t Topic: Intellect\n",
      "--------------------------------------------------\n",
      "For Character ODO following the descriptive works for their top 2 topics: \n",
      "\n",
      "Score: 0.1460297703742981\t Topic: Spaceship\n",
      "Score: 0.11761773377656937\t Topic: Feelings\n",
      "--------------------------------------------------\n",
      "For Character QUARK following the descriptive works for their top 2 topics: \n",
      "\n",
      "Score: 0.14731360971927643\t Topic: Emotions\n",
      "Score: 0.11018166691064835\t Topic: Intellect\n",
      "--------------------------------------------------\n",
      "For Character DAX following the descriptive works for their top 2 topics: \n",
      "\n",
      "Score: 0.12238720059394836\t Topic: Time and Events\n",
      "Score: 0.11822767555713654\t Topic: Feelings\n",
      "\n",
      " --------------------   Season  5    --------------------\n",
      "--------------------------------------------------\n",
      "For Character SISKO following the descriptive works for their top 2 topics: \n",
      "\n",
      "Score: 0.1446533352136612\t Topic: Spaceship\n",
      "Score: 0.12824690341949463\t Topic: Time and Events\n",
      "--------------------------------------------------\n",
      "For Character KIRA following the descriptive works for their top 2 topics: \n",
      "\n",
      "Score: 0.13523615896701813\t Topic: Extraterrestrial Life\n",
      "Score: 0.12295596301555634\t Topic: Spaceship\n",
      "--------------------------------------------------\n",
      "For Character BASHIR following the descriptive works for their top 2 topics: \n",
      "\n",
      "Score: 0.12822629511356354\t Topic: Intellect\n",
      "Score: 0.1247572973370552\t Topic: Time and Events\n",
      "--------------------------------------------------\n",
      "For Character O'BRIEN following the descriptive works for their top 2 topics: \n",
      "\n",
      "Score: 0.1715817153453827\t Topic: Time and Events\n",
      "Score: 0.125250443816185\t Topic: Spaceship\n",
      "--------------------------------------------------\n",
      "For Character ODO following the descriptive works for their top 2 topics: \n",
      "\n",
      "Score: 0.12745165824890137\t Topic: Time and Events\n",
      "Score: 0.11834198236465454\t Topic: Intellect\n",
      "--------------------------------------------------\n",
      "For Character QUARK following the descriptive works for their top 2 topics: \n",
      "\n",
      "Score: 0.1298689991235733\t Topic: Emotions\n",
      "Score: 0.11376682668924332\t Topic: Information\n",
      "--------------------------------------------------\n",
      "For Character DAX following the descriptive works for their top 2 topics: \n",
      "\n",
      "Score: 0.13325531780719757\t Topic: Spaceship\n",
      "Score: 0.12894198298454285\t Topic: Time and Events\n",
      "\n",
      " --------------------   Season  6    --------------------\n",
      "--------------------------------------------------\n",
      "For Character SISKO following the descriptive works for their top 2 topics: \n",
      "\n",
      "Score: 0.12996189296245575\t Topic: Extraterrestrial Life\n",
      "Score: 0.12928567826747894\t Topic: Spaceship\n",
      "--------------------------------------------------\n",
      "For Character KIRA following the descriptive works for their top 2 topics: \n",
      "\n",
      "Score: 0.13309350609779358\t Topic: Feelings\n",
      "Score: 0.11975022405385971\t Topic: Extraterrestrial Life\n",
      "--------------------------------------------------\n",
      "For Character BASHIR following the descriptive works for their top 2 topics: \n",
      "\n",
      "Score: 0.12670686841011047\t Topic: Leadership\n",
      "Score: 0.11309472471475601\t Topic: Time and Events\n",
      "--------------------------------------------------\n",
      "For Character O'BRIEN following the descriptive works for their top 2 topics: \n",
      "\n",
      "Score: 0.14542926847934723\t Topic: Time and Events\n",
      "Score: 0.11455634981393814\t Topic: Intellect\n",
      "--------------------------------------------------\n",
      "For Character ODO following the descriptive works for their top 2 topics: \n",
      "\n",
      "Score: 0.1475398987531662\t Topic: Intellect\n",
      "Score: 0.13532570004463196\t Topic: Feelings\n",
      "--------------------------------------------------\n",
      "For Character QUARK following the descriptive works for their top 2 topics: \n",
      "\n",
      "Score: 0.1324908435344696\t Topic: Emotions\n",
      "Score: 0.11624523252248764\t Topic: Information\n",
      "--------------------------------------------------\n",
      "For Character DAX following the descriptive works for their top 2 topics: \n",
      "\n",
      "Score: 0.1418876200914383\t Topic: Feelings\n",
      "Score: 0.11244877427816391\t Topic: Leadership\n",
      "\n",
      " --------------------   Season  7    --------------------\n",
      "--------------------------------------------------\n",
      "For Character SISKO following the descriptive works for their top 2 topics: \n",
      "\n",
      "Score: 0.12299859523773193\t Topic: Feelings\n",
      "Score: 0.11655864864587784\t Topic: Spaceship\n",
      "--------------------------------------------------\n",
      "For Character KIRA following the descriptive works for their top 2 topics: \n",
      "\n",
      "Score: 0.12639710307121277\t Topic: Leadership\n",
      "Score: 0.12236715853214264\t Topic: Extraterrestrial Life\n",
      "--------------------------------------------------\n",
      "For Character BASHIR following the descriptive works for their top 2 topics: \n",
      "\n",
      "Score: 0.14132709801197052\t Topic: Intellect\n",
      "Score: 0.1104063093662262\t Topic: Leadership\n",
      "--------------------------------------------------\n",
      "For Character O'BRIEN following the descriptive works for their top 2 topics: \n",
      "\n",
      "Score: 0.13373376429080963\t Topic: Time and Events\n",
      "Score: 0.12028641998767853\t Topic: Actions\n",
      "--------------------------------------------------\n",
      "For Character ODO following the descriptive works for their top 2 topics: \n",
      "\n",
      "Score: 0.15379007160663605\t Topic: Intellect\n",
      "Score: 0.13340404629707336\t Topic: Spaceship\n",
      "--------------------------------------------------\n",
      "For Character QUARK following the descriptive works for their top 2 topics: \n",
      "\n",
      "Score: 0.148085817694664\t Topic: Emotions\n",
      "Score: 0.12516972422599792\t Topic: Feelings\n",
      "--------------------------------------------------\n",
      "For Character DAX following the descriptive works for their top 2 topics: \n",
      "\n",
      "Score: 0.10000000149011612\t Topic: Actions\n",
      "Score: 0.10000000149011612\t Topic: Spaceship Commands\n"
     ]
    }
   ],
   "source": [
    "# -------------------------------    Season 1    ----------------------------------\n",
    "\n",
    "season_episodes = episodes[0:20]\n",
    "last_index = 20\n",
    "\n",
    "print(\"-\" * 20, \"  Season 1  \", \"-\" * 20)\n",
    "\n",
    "for character in list(character_corpus.keys()):\n",
    "\n",
    "    character_lines = ''\n",
    "\n",
    "    for episode in season_episodes:\n",
    "\n",
    "        if df_all_series['DS9'][episode] is not np.NaN:\n",
    "\n",
    "            dialogue_list = [x for x in df_all_series['DS9'][episode][character]]\n",
    "            \n",
    "            for line in dialogue_list:\n",
    "\n",
    "                character_lines += ' ' \n",
    "                character_lines += line\n",
    "\n",
    "    character_lines = character_lines.strip()\n",
    "    bow_vector = dictionary.doc2bow(preprocess(character_lines))\n",
    "\n",
    "    print(\"-\" * 50)\n",
    "    print(\"For Character \" + character + \" following the descriptive works for their top 2 topics: \\n\")\n",
    "\n",
    "    for index, score in sorted(lda_model[bow_vector], key = lambda tup: -1 * tup[1])[0:2]:\n",
    "        \n",
    "        print(\"Score: {}\\t Topic: {}\".format(score, topicDict[index]))\n",
    "\n",
    "# --------------------------------------------------------------------------------\n",
    "\n",
    "\n",
    "# ------------------------ Rest of the Seasons (2 - 7) ---------------------------\n",
    "\n",
    "for season in range(2, 8):\n",
    "\n",
    "    print(\"\\n\", \"-\" * 20, \"  Season \", str(season), \"  \", \"-\" * 20)\n",
    "    season_episodes = episodes[last_index : (last_index + 26)]\n",
    "    last_index += 26\n",
    "\n",
    "    for character in list(character_corpus.keys()):\n",
    "\n",
    "        character_lines = ''\n",
    "        \n",
    "        for episode in season_episodes:\n",
    "\n",
    "            if df_all_series['DS9'][episode] is not np.NaN:\n",
    "\n",
    "                dialogue_list = [x for x in df_all_series['DS9'][episode][character]]\n",
    "                \n",
    "                for line in dialogue_list:\n",
    "\n",
    "                    character_lines += ' ' \n",
    "                    character_lines += line\n",
    "\n",
    "        character_lines = character_lines.strip()\n",
    "        bow_vector = dictionary.doc2bow(preprocess(character_lines))\n",
    "\n",
    "        print(\"-\" * 50)\n",
    "        print(\"For Character \" + character + \" following the descriptive works for their top 2 topics: \\n\")\n",
    "\n",
    "        for index, score in sorted(lda_model[bow_vector], key = lambda tup: -1 * tup[1])[0:2]:\n",
    "            \n",
    "            print(\"Score: {}\\t Topic: {}\".format(score, topicDict[index]))\n"
   ]
  },
  {
   "cell_type": "markdown",
   "metadata": {},
   "source": [
    "## Conclusions\n",
    "\n",
    "### Based on the above results, here are the top 2 topics each of the main characters talks about with changing seasons in the series:\n",
    "\n",
    "#### Season 1 \n",
    "\n",
    "| Character  | Top 2 Topics |\n",
    "| ---------- | ----------- |\n",
    "| SISKO      | Intellect, Time and Events |\n",
    "| KIRA       | Time and Events, Spaceship |\n",
    "| BASHIR     | Time and Events, Actions |\n",
    "| O'BRIEN    | Time and Events, Spaceship Commands |\n",
    "| ODO        | Time and Events, Intellect |\n",
    "| QUARK      | Extraterrestrial Life, Spaceship Commands |\n",
    "| DAX        | Time and Events, Actions |\n",
    "\n",
    "\n",
    "#### Season 2 \n",
    "\n",
    "| Character  | Top 2 Topics |\n",
    "| ---------- | ----------- |\n",
    "| SISKO      | Time and Events, Spaceship |\n",
    "| KIRA       | Time and Events, Actions |\n",
    "| BASHIR     | Intellect, Spaceship Commands |\n",
    "| O'BRIEN    | Time and Events, Actions |\n",
    "| ODO        | Time and Events, Intellect |\n",
    "| QUARK      | Extraterrestrial Life, Emotions |\n",
    "| DAX        | Time and Events, Spaceship |\n",
    "\n",
    "\n",
    "#### Season 3 \n",
    "\n",
    "| Character  | Top 2 Topics |\n",
    "| ---------- | ----------- |\n",
    "| SISKO      | Spaceship, Time and Events |\n",
    "| KIRA       | Time and Events, Extraterrestrial Life |\n",
    "| BASHIR     | Intellect, Actions |\n",
    "| O'BRIEN    | Time and Events, Actions |\n",
    "| ODO        | Spaceship, Intellect |\n",
    "| QUARK      | Emotions, Extraterrestrial Life |\n",
    "| DAX        | Time and Events, Actions |\n",
    "\n",
    "\n",
    "#### Season 4\n",
    "\n",
    "| Character  | Top 2 Topics |\n",
    "| ---------- | ----------- |\n",
    "| SISKO      | Spaceship, Time and Events |\n",
    "| KIRA       | Time and Events, Extraterrestrial Life |\n",
    "| BASHIR     | Feelings, Time and Events |\n",
    "| O'BRIEN    | Time and Events, Intellect |\n",
    "| ODO        | Spaceship, Feelings |\n",
    "| QUARK      | Emotions, Intellect |\n",
    "| DAX        | Time and Events, Feelings |\n",
    "\n",
    "\n",
    "#### Season 5\n",
    "\n",
    "| Character  | Top 2 Topics |\n",
    "| ---------- | ----------- |\n",
    "| SISKO      | Spaceship, Time and Events |\n",
    "| KIRA       | Extraterrestrial Life, Spaceship |\n",
    "| BASHIR     | Intellect, Time and Events |\n",
    "| O'BRIEN    | Time and Events, Spaceship |\n",
    "| ODO        | Time and Events, Intellect |\n",
    "| QUARK      | Emotions, Information |\n",
    "| DAX        | Spaceship, Time and Events |\n",
    "\n",
    "\n",
    "#### Season 6\n",
    "\n",
    "| Character  | Top 2 Topics |\n",
    "| ---------- | ----------- |\n",
    "| SISKO      | Extraterrestrial Life, Spaceship |\n",
    "| KIRA       | Feelings, Extraterrestrial Life |\n",
    "| BASHIR     | Leadership, Time and Events |\n",
    "| O'BRIEN    | Time and Events, Intellect |\n",
    "| ODO        | Intellect, Feelings |\n",
    "| QUARK      | Emotions, Information |\n",
    "| DAX        | Feelings, Leadership |\n",
    "\n",
    "\n",
    "#### Season 7\n",
    "\n",
    "| Character  | Top 2 Topics |\n",
    "| ---------- | ----------- |\n",
    "| SISKO      | Feelings, Spaceship |\n",
    "| KIRA       | Leadership, Extraterrestrial Life |\n",
    "| BASHIR     | Intellect, Leadership |\n",
    "| O'BRIEN    | Time and Events, Actions |\n",
    "| ODO        | Intellect, Spaceship |\n",
    "| QUARK      | Emotions, Feelings |\n",
    "| DAX        | Actions, Spaceship Commands |"
   ]
  },
  {
   "cell_type": "markdown",
   "metadata": {},
   "source": [
    "# Question 5. Do one more thing with the data that is interesting to you!"
   ]
  },
  {
   "cell_type": "markdown",
   "metadata": {},
   "source": [
    "### Let us investigate the simialrities between the **Main Characters** in the series based on their dialogues and how these similarities **change over seasons**. A close observation of the results would reveal the influence the characters have on each over time in the Star Trek universe, which in my opinion, is a very interesting insight. "
   ]
  },
  {
   "cell_type": "markdown",
   "metadata": {},
   "source": [
    "### Downloading the Sentence BERT (Pre-trained Transformer Network - RoBERTa Large) model to encode sentences into 1024-dimensional embedded vectors"
   ]
  },
  {
   "cell_type": "code",
   "execution_count": 194,
   "metadata": {},
   "outputs": [
    {
     "data": {
      "application/vnd.jupyter.widget-view+json": {
       "model_id": "90cb8fbc926d41bca1e0851238d91ca7",
       "version_major": 2,
       "version_minor": 0
      },
      "text/plain": [
       "Downloading:   0%|          | 0.00/748 [00:00<?, ?B/s]"
      ]
     },
     "metadata": {},
     "output_type": "display_data"
    },
    {
     "data": {
      "application/vnd.jupyter.widget-view+json": {
       "model_id": "52c9d82553c94c3895922ac83951647c",
       "version_major": 2,
       "version_minor": 0
      },
      "text/plain": [
       "Downloading:   0%|          | 0.00/191 [00:00<?, ?B/s]"
      ]
     },
     "metadata": {},
     "output_type": "display_data"
    },
    {
     "data": {
      "application/vnd.jupyter.widget-view+json": {
       "model_id": "a65490a519a94ec29d884a8ec1b11d98",
       "version_major": 2,
       "version_minor": 0
      },
      "text/plain": [
       "Downloading:   0%|          | 0.00/3.92k [00:00<?, ?B/s]"
      ]
     },
     "metadata": {},
     "output_type": "display_data"
    },
    {
     "data": {
      "application/vnd.jupyter.widget-view+json": {
       "model_id": "29c02d4ef39a4746bd7a0728fabad9bd",
       "version_major": 2,
       "version_minor": 0
      },
      "text/plain": [
       "Downloading:   0%|          | 0.00/2.00 [00:00<?, ?B/s]"
      ]
     },
     "metadata": {},
     "output_type": "display_data"
    },
    {
     "data": {
      "application/vnd.jupyter.widget-view+json": {
       "model_id": "e98e9e9ee3474c5ca80e35935ccedadf",
       "version_major": 2,
       "version_minor": 0
      },
      "text/plain": [
       "Downloading:   0%|          | 0.00/674 [00:00<?, ?B/s]"
      ]
     },
     "metadata": {},
     "output_type": "display_data"
    },
    {
     "data": {
      "application/vnd.jupyter.widget-view+json": {
       "model_id": "5ba126c170b741ebb9cd8199441fecec",
       "version_major": 2,
       "version_minor": 0
      },
      "text/plain": [
       "Downloading:   0%|          | 0.00/122 [00:00<?, ?B/s]"
      ]
     },
     "metadata": {},
     "output_type": "display_data"
    },
    {
     "data": {
      "application/vnd.jupyter.widget-view+json": {
       "model_id": "d2b9b25c554842c7aee23049e55710fc",
       "version_major": 2,
       "version_minor": 0
      },
      "text/plain": [
       "Downloading:   0%|          | 0.00/456k [00:00<?, ?B/s]"
      ]
     },
     "metadata": {},
     "output_type": "display_data"
    },
    {
     "data": {
      "application/vnd.jupyter.widget-view+json": {
       "model_id": "c11d8d048f374e46904776b7c5460aba",
       "version_major": 2,
       "version_minor": 0
      },
      "text/plain": [
       "Downloading:   0%|          | 0.00/1.42G [00:00<?, ?B/s]"
      ]
     },
     "metadata": {},
     "output_type": "display_data"
    },
    {
     "data": {
      "application/vnd.jupyter.widget-view+json": {
       "model_id": "31d2a90481054dc3be292b831cac77b9",
       "version_major": 2,
       "version_minor": 0
      },
      "text/plain": [
       "Downloading:   0%|          | 0.00/52.0 [00:00<?, ?B/s]"
      ]
     },
     "metadata": {},
     "output_type": "display_data"
    },
    {
     "data": {
      "application/vnd.jupyter.widget-view+json": {
       "model_id": "3058b08ffbe947759a4e88f5872a673c",
       "version_major": 2,
       "version_minor": 0
      },
      "text/plain": [
       "Downloading:   0%|          | 0.00/239 [00:00<?, ?B/s]"
      ]
     },
     "metadata": {},
     "output_type": "display_data"
    },
    {
     "data": {
      "application/vnd.jupyter.widget-view+json": {
       "model_id": "bd5cbdf8b4e2484d9322ab07964f654a",
       "version_major": 2,
       "version_minor": 0
      },
      "text/plain": [
       "Downloading:   0%|          | 0.00/1.36M [00:00<?, ?B/s]"
      ]
     },
     "metadata": {},
     "output_type": "display_data"
    },
    {
     "data": {
      "application/vnd.jupyter.widget-view+json": {
       "model_id": "c9d7bfab80b84ff98f5094a3a29a4172",
       "version_major": 2,
       "version_minor": 0
      },
      "text/plain": [
       "Downloading:   0%|          | 0.00/1.17k [00:00<?, ?B/s]"
      ]
     },
     "metadata": {},
     "output_type": "display_data"
    },
    {
     "data": {
      "application/vnd.jupyter.widget-view+json": {
       "model_id": "b55287637e0f4ce483efb4d69c25895e",
       "version_major": 2,
       "version_minor": 0
      },
      "text/plain": [
       "Downloading:   0%|          | 0.00/798k [00:00<?, ?B/s]"
      ]
     },
     "metadata": {},
     "output_type": "display_data"
    },
    {
     "data": {
      "application/vnd.jupyter.widget-view+json": {
       "model_id": "dd5d684c894041daa2175abc6b260205",
       "version_major": 2,
       "version_minor": 0
      },
      "text/plain": [
       "Downloading:   0%|          | 0.00/229 [00:00<?, ?B/s]"
      ]
     },
     "metadata": {},
     "output_type": "display_data"
    }
   ],
   "source": [
    "sentence_embedder = SentenceTransformer('stsb-roberta-large')"
   ]
  },
  {
   "cell_type": "markdown",
   "metadata": {},
   "source": [
    "### Generic function used to plot heatmap of similarity indices between Characters"
   ]
  },
  {
   "cell_type": "code",
   "execution_count": 235,
   "metadata": {},
   "outputs": [],
   "source": [
    "\n",
    " def create_heatmap(similarity, season, cmap = \"YlGnBu\"):\n",
    "\n",
    "  df = pd.DataFrame(similarity)\n",
    "  df.columns = list(character_corpus.keys())\n",
    "  df.index = list(character_corpus.keys())\n",
    "  \n",
    "  fig, ax = plt.subplots(figsize=(8,8))\n",
    "  sns.heatmap(df, cmap=cmap)\n",
    "  ax.set_title(\"Similarity Matrix - Season \" + str(season))\n",
    "  plt.show()"
   ]
  },
  {
   "cell_type": "markdown",
   "metadata": {},
   "source": [
    "## Plotting Season-wise Similarity Matrices between the Main Characters\n",
    "### Note: Using **cosine similarity** as the similarity measure as it gives a better measure of similarity between semantically similar sentence vectors."
   ]
  },
  {
   "cell_type": "code",
   "execution_count": 236,
   "metadata": {},
   "outputs": [
    {
     "name": "stdout",
     "output_type": "stream",
     "text": [
      "--------------------   Season 1   --------------------\n"
     ]
    },
    {
     "data": {
      "image/png": "[encoded data removed]",
      "text/plain": [
       "<Figure size 576x576 with 2 Axes>"
      ]
     },
     "metadata": {
      "needs_background": "light"
     },
     "output_type": "display_data"
    },
    {
     "name": "stdout",
     "output_type": "stream",
     "text": [
      "\n",
      " --------------------   Season  2    --------------------\n"
     ]
    },
    {
     "data": {
      "image/png": "[encoded data removed]",
      "text/plain": [
       "<Figure size 576x576 with 2 Axes>"
      ]
     },
     "metadata": {
      "needs_background": "light"
     },
     "output_type": "display_data"
    },
    {
     "name": "stdout",
     "output_type": "stream",
     "text": [
      "\n",
      " --------------------   Season  3    --------------------\n"
     ]
    },
    {
     "data": {
      "image/png": "[encoded data removed]",
      "text/plain": [
       "<Figure size 576x576 with 2 Axes>"
      ]
     },
     "metadata": {
      "needs_background": "light"
     },
     "output_type": "display_data"
    },
    {
     "name": "stdout",
     "output_type": "stream",
     "text": [
      "\n",
      " --------------------   Season  4    --------------------\n"
     ]
    },
    {
     "data": {
      "image/png": "[encoded data removed]",
      "text/plain": [
       "<Figure size 576x576 with 2 Axes>"
      ]
     },
     "metadata": {
      "needs_background": "light"
     },
     "output_type": "display_data"
    },
    {
     "name": "stdout",
     "output_type": "stream",
     "text": [
      "\n",
      " --------------------   Season  5    --------------------\n"
     ]
    },
    {
     "data": {
      "image/png": "[encoded data removed]",
      "text/plain": [
       "<Figure size 576x576 with 2 Axes>"
      ]
     },
     "metadata": {
      "needs_background": "light"
     },
     "output_type": "display_data"
    },
    {
     "name": "stdout",
     "output_type": "stream",
     "text": [
      "\n",
      " --------------------   Season  6    --------------------\n"
     ]
    },
    {
     "data": {
      "image/png": "[encoded data removed]",
      "text/plain": [
       "<Figure size 576x576 with 2 Axes>"
      ]
     },
     "metadata": {
      "needs_background": "light"
     },
     "output_type": "display_data"
    },
    {
     "name": "stdout",
     "output_type": "stream",
     "text": [
      "\n",
      " --------------------   Season  7    --------------------\n"
     ]
    },
    {
     "data": {
      "image/png": "[encoded data removed]",
      "text/plain": [
       "<Figure size 576x576 with 2 Axes>"
      ]
     },
     "metadata": {
      "needs_background": "light"
     },
     "output_type": "display_data"
    }
   ],
   "source": [
    "# -------------------------------    Season 1    ----------------------------------\n",
    "\n",
    "season_episodes = episodes[0:20]\n",
    "last_index = 20\n",
    "\n",
    "print(\"-\" * 20, \"  Season 1  \", \"-\" * 20)\n",
    "\n",
    "season_character_sentences_list = []\n",
    "\n",
    "for character in list(character_corpus.keys()):\n",
    "\n",
    "    character_lines = ''\n",
    "\n",
    "    for episode in season_episodes:\n",
    "\n",
    "        if df_all_series['DS9'][episode] is not np.NaN:\n",
    "\n",
    "            for line in df_all_series['DS9'][episode][character]:\n",
    "\n",
    "                character_lines += ' ' + line\n",
    "\n",
    "    character_lines = character_lines.strip()\n",
    "    character_lines_preprocessed = ' '.join(preprocess(character_lines))\n",
    "    season_character_sentences_list.append(character_lines_preprocessed)\n",
    "\n",
    "sbert_embeddings = sentence_embedder.encode(season_character_sentences_list, convert_to_tensor=True)\n",
    "\n",
    "\n",
    "season_char_similarity = []\n",
    "\n",
    "for i in range(len(season_character_sentences_list)):\n",
    "    row = []\n",
    "    for j in range(len(season_character_sentences_list)):\n",
    "        row.append(util.pytorch_cos_sim(sbert_embeddings[i], sbert_embeddings[j]).item())\n",
    "    season_char_similarity.append(row)\n",
    "\n",
    "create_heatmap(season_char_similarity, 1)\n",
    "# --------------------------------------------------------------------------------\n",
    "\n",
    "# ------------------------ Rest of the Seasons (2 - 7) ---------------------------\n",
    "\n",
    "for season in range(2, 8):\n",
    "\n",
    "    print(\"\\n\", \"-\" * 20, \"  Season \", str(season), \"  \", \"-\" * 20)\n",
    "    season_episodes = episodes[last_index : (last_index + 26)]\n",
    "    last_index += 26\n",
    "\n",
    "    season_character_sentences_list = []\n",
    "\n",
    "    for character in list(character_corpus.keys()):\n",
    "\n",
    "        character_lines = ''\n",
    "\n",
    "        for episode in season_episodes:\n",
    "\n",
    "            if df_all_series['DS9'][episode] is not np.NaN:\n",
    "\n",
    "                for line in df_all_series['DS9'][episode][character]:\n",
    "\n",
    "                    character_lines += ' ' + line\n",
    "\n",
    "        character_lines = character_lines.strip()\n",
    "        character_lines_preprocessed = ' '.join(preprocess(character_lines))\n",
    "        season_character_sentences_list.append(character_lines_preprocessed)\n",
    "\n",
    "    sbert_embeddings = sentence_embedder.encode(season_character_sentences_list, convert_to_tensor=True)\n",
    "\n",
    "\n",
    "    season_char_similarity = []\n",
    "\n",
    "    for i in range(len(season_character_sentences_list)):\n",
    "        row = []\n",
    "        for j in range(len(season_character_sentences_list)):\n",
    "            row.append(util.pytorch_cos_sim(sbert_embeddings[i], sbert_embeddings[j]).item())\n",
    "        season_char_similarity.append(row)\n",
    "\n",
    "    create_heatmap(season_char_similarity, season)\n"
   ]
  },
  {
   "cell_type": "markdown",
   "metadata": {},
   "source": [
    "## Conclusions\n",
    "\n",
    "#### As we can observe from the heatmap of the similarity matrices for the main characters, the similarities are lower in the first season, signifying that the characters are new and unbiased and not influenced by the others. But with increasing seasons, we notice a gradual shift towards **higher similarities** between the characters, with Season 4 and Season 5 showing significantly higher average similarities. This indicates that the characters themselves begins to influence the scriptwriting as the show progresses. \n",
    "\n",
    "#### This is an interesting observation.\n",
    "\n",
    "#### Lastly, the last season, i.e. **Season 7** shows an abnormally high degree of similarity between the characters, except DAX. This could be due to the following reasons:\n",
    "- Since we do not have the episode scripts from the last 3 episodes, our embeddings of the dialogues are not as accurate.\n",
    "- Less participation of the main characters during the last season, i.e. some dying off, eliminated, outcast etc. \n",
    "- The entirety of Season 7 focusing on a limited set of plot concepts, causing heavy similarities between the dialogues of the main characters. "
   ]
  },
  {
   "cell_type": "markdown",
   "metadata": {},
   "source": [
    "# Question 6. If you had more time, what would you do with this data?"
   ]
  },
  {
   "cell_type": "markdown",
   "metadata": {},
   "source": [
    "### If I had more time, I would try to model the interactions between some of the important characters in the show by finding out the top supporting characters each of them share scenes with, most frequently. Building a **connected graph** of these scene associations with the characters being vertices and the strengths of the edges being proportional to the screen time shared between any 2 of them, would allow deeper understanding of the substructures of the different scenes, settings and moods of the movie in conjunction with the topics covered by each character. \n",
    "\n",
    "### Understanding these structures in the Character Interaction Graph would be like knowing the fundamental premises of the series without actually watching it !"
   ]
  }
 ],
 "metadata": {
  "kernelspec": {
   "display_name": "Python 3.8.10 64-bit ('3.8.10')",
   "language": "python",
   "name": "python3"
  },
  "language_info": {
   "codemirror_mode": {
    "name": "ipython",
    "version": 3
   },
   "file_extension": ".py",
   "mimetype": "text/x-python",
   "name": "python",
   "nbconvert_exporter": "python",
   "pygments_lexer": "ipython3",
   "version": "3.8.10"
  },
  "orig_nbformat": 4,
  "vscode": {
   "interpreter": {
    "hash": "aa9e726f7068bc09cb87cea6d822e9bb307c656efd1fd195bfa4fa36e67ad00e"
   }
  }
 },
 "nbformat": 4,
 "nbformat_minor": 2
}
